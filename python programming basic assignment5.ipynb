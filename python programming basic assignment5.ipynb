{
 "cells": [
  {
   "cell_type": "code",
   "execution_count": 1,
   "id": "a526e000",
   "metadata": {},
   "outputs": [
    {
     "name": "stdout",
     "output_type": "stream",
     "text": [
      "no of integers: 24,15\n",
      "120\n"
     ]
    }
   ],
   "source": [
    "#1. Write a Python Program to Find LCM?\n",
    "import math\n",
    "m,n=map(int,input(\"no of integers: \").split(\",\"))\n",
    "t=math.lcm(m,n)\n",
    "print(t)"
   ]
  },
  {
   "cell_type": "code",
   "execution_count": 2,
   "id": "2ac1f41a",
   "metadata": {},
   "outputs": [
    {
     "name": "stdout",
     "output_type": "stream",
     "text": [
      "no of integers: 45,30\n",
      "15.0\n"
     ]
    }
   ],
   "source": [
    "#2. Write a Python Program to Find HCF?\n",
    "import math\n",
    "m,n=map(int,input(\"no of integers: \").split(\",\"))\n",
    "t=math.lcm(m,n)\n",
    "hcf=(m*n)/t\n",
    "print(hcf)\n"
   ]
  },
  {
   "cell_type": "code",
   "execution_count": 3,
   "id": "1d4b4cb0",
   "metadata": {},
   "outputs": [
    {
     "name": "stdout",
     "output_type": "stream",
     "text": [
      "enter the number: 50\n",
      "binary: 0b110010\n",
      "octal: 0o62\n",
      "hexadecimal:0x32\n"
     ]
    }
   ],
   "source": [
    "#3. Write a Python Program to Convert Decimal to Binary, Octal and Hexadecimal?\n",
    "n=int(input(\"enter the number: \"))\n",
    "print(\"binary: {}\\noctal: {}\\nhexadecimal:{}\".format(bin(n),oct(n),hex(n)))\n"
   ]
  },
  {
   "cell_type": "code",
   "execution_count": 4,
   "id": "a4873b77",
   "metadata": {},
   "outputs": [
    {
     "name": "stdout",
     "output_type": "stream",
     "text": [
      "enter the character: f\n",
      "ASCII value of f is 102\n"
     ]
    }
   ],
   "source": [
    "#4. Write a Python Program To Find ASCII value of a character?\n",
    "c=input(\"enter the character: \")\n",
    "print(\"ASCII value of {} is {}\".format(c,ord(c)))"
   ]
  },
  {
   "cell_type": "code",
   "execution_count": 5,
   "id": "9c90d021",
   "metadata": {},
   "outputs": [
    {
     "name": "stdout",
     "output_type": "stream",
     "text": [
      "1.add\n",
      "2.subtraction\n",
      "3.multiplication\n",
      "4.division\n",
      "enter choice 1/2/3/4: 3\n",
      "enter the numbers: 8,9\n",
      "8.0*9.0=72.0\n",
      "next calculation :yes/no  yes\n",
      "enter choice 1/2/3/4: 1\n",
      "enter the numbers: 54,23\n",
      "54.0+23.0=77.0\n",
      "next calculation :yes/no  no\n"
     ]
    }
   ],
   "source": [
    "#5. Write a Python Program to Make a Simple Calculator with 4 basic mathematical operations?\n",
    "def add(x,y):\n",
    "    return x+y\n",
    "def subtract(x,y):\n",
    "    return x-y\n",
    "def multiply(x,y):\n",
    "    return x*y\n",
    "def division(x,y):\n",
    "    return x/y\n",
    "print(\"1.add\\n2.subtraction\\n3.multiplication\\n4.division\")\n",
    "while True:\n",
    "    c=int(input(\"enter choice 1/2/3/4: \"))\n",
    "    x,y=map(float,input(\"enter the numbers: \").split(\",\"))\n",
    "    if c==1:\n",
    "        print(\"{}+{}={}\".format(x,y,add(x,y)))\n",
    "    elif c==2:\n",
    "        print(\"{}-{}={}\".format(x,y,subtract(x,y)))\n",
    "    elif c==3:\n",
    "        print(\"{}*{}={}\".format(x,y,multiply(x,y)))\n",
    "    elif c==4:\n",
    "        print(\"{}/{}={}\".format(x,y,division(x,y)))\n",
    "    d=input(\"next calculation :yes/no  \")\n",
    "    if d==\"no\":\n",
    "        break\n",
    "    else:\n",
    "        continue\n"
   ]
  }
 ],
 "metadata": {
  "kernelspec": {
   "display_name": "Python 3 (ipykernel)",
   "language": "python",
   "name": "python3"
  },
  "language_info": {
   "codemirror_mode": {
    "name": "ipython",
    "version": 3
   },
   "file_extension": ".py",
   "mimetype": "text/x-python",
   "name": "python",
   "nbconvert_exporter": "python",
   "pygments_lexer": "ipython3",
   "version": "3.10.9"
  }
 },
 "nbformat": 4,
 "nbformat_minor": 5
}
